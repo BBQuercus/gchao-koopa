{
 "cells": [
  {
   "cell_type": "markdown",
   "id": "4cb68fe0",
   "metadata": {},
   "source": [
    "## Initialize notebook"
   ]
  },
  {
   "cell_type": "code",
   "execution_count": null,
   "id": "81827977",
   "metadata": {
    "ExecuteTime": {
     "end_time": "2022-02-10T08:51:25.836980Z",
     "start_time": "2022-02-10T08:51:18.005803Z"
    }
   },
   "outputs": [],
   "source": [
    "import configparser\n",
    "import glob\n",
    "import os\n",
    "\n",
    "import ipywidgets\n",
    "import ipywidgets as widgets\n",
    "import pandas as pd\n",
    "import skimage.io"
   ]
  },
  {
   "cell_type": "code",
   "execution_count": null,
   "id": "bac35d73",
   "metadata": {},
   "outputs": [],
   "source": [
    "%gui qt\n",
    "import napari\n",
    "viewer = napari.Viewer()"
   ]
  },
  {
   "cell_type": "code",
   "execution_count": null,
   "id": "1cebf8f7",
   "metadata": {},
   "outputs": [],
   "source": []
  },
  {
   "cell_type": "markdown",
   "id": "6ffb8419",
   "metadata": {},
   "source": [
    "## Select image 👩🏻‍💻"
   ]
  },
  {
   "cell_type": "code",
   "execution_count": null,
   "id": "5703b8ed",
   "metadata": {
    "ExecuteTime": {
     "end_time": "2022-02-10T08:51:50.305506Z",
     "start_time": "2022-02-10T08:51:50.300984Z"
    }
   },
   "outputs": [],
   "source": [
    "# Set analysis folder\n",
    "dir_analysis = \"./live_analysis/\""
   ]
  },
  {
   "cell_type": "code",
   "execution_count": null,
   "id": "d6bc6e45",
   "metadata": {
    "ExecuteTime": {
     "end_time": "2022-02-10T08:53:37.307436Z",
     "start_time": "2022-02-10T08:53:37.289821Z"
    }
   },
   "outputs": [],
   "source": [
    "# Read configuration file\n",
    "config = configparser.ConfigParser()\n",
    "config.read(os.path.join(dir_analysis, \"luigi.cfg\"))\n",
    "do_3D = eval(config[\"General\"][\"do_3D\"])\n",
    "do_TimeSeries = eval(config[\"General\"][\"do_TimeSeries\"])\n",
    "spots_cols = [\"frame\", \"y\", \"x\"]\n",
    "track_cols = [\"particle\", \"frame\", \"y\", \"x\"]\n",
    "\n",
    "# Bead alignment\n",
    "if eval(config[\"PreprocessingAlignment\"][\"enabled\"]):\n",
    "    alignment = skimage.io.imread(os.path.join(dir_analysis, \"alignment.png\"))\n",
    "    viewer.add_image(alignment, name=\"Alignment\")"
   ]
  },
  {
   "cell_type": "code",
   "execution_count": null,
   "id": "5d135aa4",
   "metadata": {
    "ExecuteTime": {
     "end_time": "2022-01-17T12:51:31.325278Z",
     "start_time": "2022-01-17T12:51:31.306963Z"
    }
   },
   "outputs": [],
   "source": [
    "# Select from nd files\n",
    "files = sorted(glob.glob(os.path.join(dir_analysis, \"preprocessed\", \"*.tif\")))\n",
    "files = sorted([os.path.basename(f).replace(\".tif\", \"\") for f in files])\n",
    "file = widgets.Dropdown(\n",
    "    options=files, description=\"File:\", layout=ipywidgets.Layout(width=\"100%\")\n",
    ")\n",
    "file"
   ]
  },
  {
   "cell_type": "code",
   "execution_count": null,
   "id": "fdf364b0",
   "metadata": {},
   "outputs": [],
   "source": []
  },
  {
   "cell_type": "markdown",
   "id": "f734feb5",
   "metadata": {},
   "source": [
    "## Load images 🌠"
   ]
  },
  {
   "cell_type": "code",
   "execution_count": null,
   "id": "1c853495",
   "metadata": {},
   "outputs": [],
   "source": [
    "viewer.layers.clear()\n",
    "\n",
    "# Raw image\n",
    "image = skimage.io.imread(\n",
    "    os.path.join(dir_analysis, \"preprocessed\", f\"{file.value}.tif\")\n",
    ")\n",
    "for idx, channel in enumerate(image):\n",
    "    viewer.add_image(channel, name=f\"Channel {idx}\", blending=\"additive\")\n",
    "\n",
    "# Segmentation primary\n",
    "fname = os.path.join(dir_analysis, \"segmentation_primary\", f\"{file.value}.tif\")\n",
    "segmap = skimage.io.imread(fname).astype(int)\n",
    "viewer.add_labels(segmap, name=\"Segmentation Primary\", blending=\"translucent\")\n",
    "\n",
    "# Segmentation secondary\n",
    "if eval(config[\"SegmentationSecondary\"][\"enabled\"]):\n",
    "    fname = os.path.join(dir_analysis, \"segmentation_secondary\", f\"{file.value}.tif\")\n",
    "    segmap = skimage.io.imread(fname).astype(int)\n",
    "    viewer.add_labels(segmap, name=\"Segmentation Secondary\", blending=\"translucent\")\n",
    "\n",
    "# Segmentation other\n",
    "if eval(config[\"SegmentationOther\"][\"enabled\"]):\n",
    "    for channel in eval(config[\"SegmentationOther\"][\"channels\"]):\n",
    "        fname = os.path.join(\n",
    "            dir_analysis, f\"segmentation_{channel}\", f\"{file.value}.tif\"\n",
    "        )\n",
    "        segmap = skimage.io.imread(fname).astype(int)\n",
    "        viewer.add_labels(\n",
    "            segmap, name=f\"Segmentation C{channel}\", blending=\"translucent\"\n",
    "        )\n",
    "\n",
    "# Detection raw (or joined)\n",
    "for channel in eval(config[\"SpotsDetection\"][\"channels\"]):\n",
    "    folder = (\n",
    "        f\"detection_final_c{channel}\"\n",
    "        if do_3D or do_TimeSeries\n",
    "        else f\"detection_raw_c{channel}\"\n",
    "    )\n",
    "    fname = os.path.join(dir_analysis, folder, f\"{file.value}.parq\")\n",
    "    df = pd.read_parquet(fname)\n",
    "    if do_TimeSeries:\n",
    "        viewer.add_tracks(df[track_cols], name=f\"Track C{channel}\")\n",
    "    else:\n",
    "        viewer.add_spots(df[spots_cols], name=f\"Detection C{channel}\")\n",
    "\n",
    "\n",
    "# Colocalization\n",
    "if eval(config[\"SpotsColocalization\"][\"enabled\"]):\n",
    "    for i, j in eval(config[\"SpotsColocalization\"][\"channels\"]):\n",
    "        fname = os.path.join(\n",
    "            dir_analysis, f\"colocalization_{i}-{j}\", f\"{file.value}.parq\"\n",
    "        )\n",
    "        df = pd.read_parquet(fname)\n",
    "        df_coloc = df[(df[\"coloc_particle\"].isna()) & (df[\"channel\"] == i)][track_cols]\n",
    "        df_empty = df[(~df[\"coloc_particle\"].isna()) & (df[\"channel\"] == j)][track_cols]\n",
    "        viewer.add_tracks(df_coloc, name=f\"Track {i}-{j} Coloc\", colormap=\"red\")\n",
    "        viewer.add_tracks(df_empty, name=f\"Track {i}-{j} Empty\", colormap=\"blue\")"
   ]
  },
  {
   "cell_type": "code",
   "execution_count": null,
   "id": "4fab386b",
   "metadata": {},
   "outputs": [],
   "source": []
  }
 ],
 "metadata": {
  "kernelspec": {
   "display_name": "Python 3",
   "language": "python",
   "name": "python3"
  },
  "language_info": {
   "codemirror_mode": {
    "name": "ipython",
    "version": 3
   },
   "file_extension": ".py",
   "mimetype": "text/x-python",
   "name": "python",
   "nbconvert_exporter": "python",
   "pygments_lexer": "ipython3",
   "version": "3.9.5"
  }
 },
 "nbformat": 4,
 "nbformat_minor": 5
}
