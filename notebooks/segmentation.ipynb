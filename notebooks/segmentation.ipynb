{
 "cells": [
  {
   "cell_type": "code",
   "execution_count": null,
   "metadata": {
    "ExecuteTime": {
     "end_time": "2021-09-22T08:51:21.329033Z",
     "start_time": "2021-09-22T08:51:21.055269Z"
    }
   },
   "outputs": [],
   "source": [
    "import os\n",
    "import glob\n",
    "\n",
    "from tensorflow.keras.preprocessing.image import ImageDataGenerator\n",
    "from tqdm.notebook import tqdm\n",
    "import deepblink as pink\n",
    "import matplotlib.pyplot as plt\n",
    "import numpy as np\n",
    "import segmentation_models as sm\n",
    "import skimage.io\n",
    "import skimage.util\n",
    "import tensorflow as tf"
   ]
  },
  {
   "cell_type": "code",
   "execution_count": null,
   "metadata": {
    "ExecuteTime": {
     "end_time": "2021-09-22T08:47:53.889174Z",
     "start_time": "2021-09-22T08:47:53.817531Z"
    }
   },
   "outputs": [],
   "source": [
    "# General CPU/GPU setting\n",
    "os.environ[\"OMP_NUM_THREADS\"] = \"10\"\n",
    "os.environ[\"OPENBLAS_NUM_THREADS\"] = \"10\"\n",
    "os.environ[\"MKL_NUM_THREADS\"] = \"10\"\n",
    "os.environ[\"VECLIB_MAXIMUM_THREADS\"] = \"10\"\n",
    "os.environ[\"NUMEXPR_NUM_THREADS\"] = \"10\"\n",
    "os.environ[\"CUDA_VISIBLE_DEVICES\"] = \"0\"\n",
    "os.nice(19)\n",
    "\n",
    "# Tensorflow CPU setting\n",
    "tf.config.threading.set_intra_op_parallelism_threads(4)\n",
    "tf.config.threading.set_inter_op_parallelism_threads(4)\n",
    "gpus = tf.config.list_physical_devices(\"GPU\")"
   ]
  },
  {
   "cell_type": "code",
   "execution_count": null,
   "metadata": {},
   "outputs": [],
   "source": []
  },
  {
   "cell_type": "markdown",
   "metadata": {},
   "source": [
    "# Generate data for labelling"
   ]
  },
  {
   "cell_type": "code",
   "execution_count": null,
   "metadata": {},
   "outputs": [],
   "source": []
  },
  {
   "cell_type": "code",
   "execution_count": null,
   "metadata": {},
   "outputs": [],
   "source": []
  },
  {
   "cell_type": "markdown",
   "metadata": {},
   "source": [
    "# Data preparation and splitting"
   ]
  },
  {
   "cell_type": "code",
   "execution_count": null,
   "metadata": {
    "ExecuteTime": {
     "end_time": "2021-09-22T08:47:55.245239Z",
     "start_time": "2021-09-22T08:47:55.215254Z"
    }
   },
   "outputs": [],
   "source": [
    "images = sorted(glob.glob(\"../raw/jess_flies/images_hr38_seg/*.tif\"))\n",
    "labels = sorted(glob.glob(\"../raw/jess_flies/labels_hr38_seg/*.tif\"))"
   ]
  },
  {
   "cell_type": "code",
   "execution_count": null,
   "metadata": {
    "ExecuteTime": {
     "end_time": "2021-09-22T08:48:33.157578Z",
     "start_time": "2021-09-22T08:47:56.814464Z"
    }
   },
   "outputs": [],
   "source": [
    "data_x = []\n",
    "data_y = []\n",
    "\n",
    "for img, label in tqdm(zip(images, labels)):\n",
    "    assert pink.io.basename(img) == pink.io.basename(label)\n",
    "\n",
    "    # Read and crop\n",
    "    img = skimage.io.imread(img)\n",
    "    label = skimage.io.imread(label)\n",
    "    data_x.append(img)\n",
    "    data_y.append(label)\n",
    "                \n",
    "data_x = np.array(data_x)\n",
    "data_y = np.array(data_y)"
   ]
  },
  {
   "cell_type": "code",
   "execution_count": null,
   "metadata": {
    "ExecuteTime": {
     "end_time": "2021-09-22T08:48:36.451866Z",
     "start_time": "2021-09-22T08:48:35.672783Z"
    }
   },
   "outputs": [],
   "source": [
    "np.random.seed(42)\n",
    "\n",
    "# Shuffle\n",
    "index = np.arange(len(data_x))\n",
    "np.random.shuffle(index)\n",
    "data_x = data_x[index]\n",
    "data_y = data_y[index]\n",
    "\n",
    "# Train val split\n",
    "split = 0.2\n",
    "n_split = int(len(data_x) * split)\n",
    "x_train = data_x[n_split:]\n",
    "y_train = data_y[n_split:]\n",
    "x_valid = data_x[:n_split]\n",
    "y_valid = data_y[:n_split]"
   ]
  },
  {
   "cell_type": "code",
   "execution_count": null,
   "metadata": {
    "ExecuteTime": {
     "end_time": "2021-09-22T08:51:20.758454Z",
     "start_time": "2021-09-22T08:49:49.562161Z"
    }
   },
   "outputs": [],
   "source": [
    "# Save dataset\n",
    "np.savez_compressed(\n",
    "    \"../datasets/jess_flies/20210922_seg_hr38_kay_large.npz\",\n",
    "    x_train=x_train,\n",
    "    y_train=y_train,\n",
    "    x_valid=x_valid,\n",
    "    y_valid=y_valid,\n",
    ")"
   ]
  },
  {
   "cell_type": "code",
   "execution_count": null,
   "metadata": {},
   "outputs": [],
   "source": []
  },
  {
   "cell_type": "markdown",
   "metadata": {},
   "source": [
    "# Data loading"
   ]
  },
  {
   "cell_type": "code",
   "execution_count": null,
   "metadata": {
    "ExecuteTime": {
     "end_time": "2021-09-22T08:51:59.003288Z",
     "start_time": "2021-09-22T08:51:50.451329Z"
    }
   },
   "outputs": [],
   "source": [
    "data =  np.load(\n",
    "    \"../datasets/jess_flies/20210922_seg_hr38_kay_large.npz\"\n",
    ")\n",
    "x_train = data[\"x_train\"]\n",
    "y_train = data[\"y_train\"]\n",
    "x_valid = data[\"x_valid\"]\n",
    "y_valid = data[\"y_valid\"]"
   ]
  },
  {
   "cell_type": "code",
   "execution_count": null,
   "metadata": {
    "ExecuteTime": {
     "end_time": "2021-09-22T08:52:08.211080Z",
     "start_time": "2021-09-22T08:51:59.949014Z"
    }
   },
   "outputs": [],
   "source": [
    "# Add axes to mimick RGB used by pretrained-models\n",
    "x_train = np.stack((x_train,) * 3, axis=-1)\n",
    "y_train = np.expand_dims(y_train, axis=-1)\n",
    "x_valid = np.stack((x_valid,) * 3, axis=-1)\n",
    "y_valid = np.expand_dims(y_valid, axis=-1)"
   ]
  },
  {
   "cell_type": "code",
   "execution_count": null,
   "metadata": {
    "ExecuteTime": {
     "end_time": "2021-09-22T08:52:09.231612Z",
     "start_time": "2021-09-22T08:52:08.212319Z"
    }
   },
   "outputs": [],
   "source": [
    "# Define the model\n",
    "BACKBONE = \"inceptionv3\"\n",
    "preprocess_input = sm.get_preprocessing(BACKBONE)\n",
    "x_train = preprocess_input(x_train)\n",
    "x_valid = preprocess_input(x_valid)"
   ]
  },
  {
   "cell_type": "code",
   "execution_count": null,
   "metadata": {
    "ExecuteTime": {
     "end_time": "2021-09-22T08:52:34.876488Z",
     "start_time": "2021-09-22T08:52:34.213060Z"
    },
    "scrolled": false
   },
   "outputs": [],
   "source": [
    "# Sanity check, view few images\n",
    "idx1 = np.random.randint(0, len(x_train))\n",
    "idx2 = np.random.randint(0, len(x_valid))\n",
    "\n",
    "fig, ax = plt.subplots(2, 2, figsize=(10, 10))\n",
    "ax[0,0].imshow(x_train[idx1, ..., 0])\n",
    "ax[0,1].imshow(y_train[idx1].squeeze())\n",
    "ax[1,0].imshow(x_valid[idx2, ..., 0])\n",
    "ax[1,1].imshow(y_valid[idx2].squeeze())\n",
    "plt.tight_layout()\n",
    "plt.show()"
   ]
  },
  {
   "cell_type": "code",
   "execution_count": null,
   "metadata": {
    "ExecuteTime": {
     "end_time": "2021-09-22T08:53:34.172309Z",
     "start_time": "2021-09-22T08:52:46.666838Z"
    }
   },
   "outputs": [],
   "source": [
    "seed = 42\n",
    "batch_size = 4\n",
    "\n",
    "# Datagenerator for images\n",
    "image_data_generator = ImageDataGenerator(\n",
    "    rotation_range=90,\n",
    "    width_shift_range=0.3,\n",
    "    height_shift_range=0.3,\n",
    "    shear_range=0.5,\n",
    "    zoom_range=0.3,\n",
    "    horizontal_flip=True,\n",
    "    vertical_flip=True,\n",
    "    fill_mode=\"reflect\",\n",
    "    preprocessing_function=lambda x: (x - x.mean()) / x.std(),\n",
    ")\n",
    "image_data_generator.fit(x_train, augment=True, seed=seed)\n",
    "train_img_generator = image_data_generator.flow(\n",
    "    x_train, seed=seed, batch_size=batch_size\n",
    ")\n",
    "valid_img_generator = image_data_generator.flow(\n",
    "    x_valid, seed=seed, batch_size=batch_size\n",
    ")\n",
    "\n",
    "# Datagenerator for masks\n",
    "mask_data_generator = ImageDataGenerator(\n",
    "    rotation_range=90,\n",
    "    width_shift_range=0.3,\n",
    "    height_shift_range=0.3,\n",
    "    shear_range=0.5,\n",
    "    zoom_range=0.3,\n",
    "    horizontal_flip=True,\n",
    "    vertical_flip=True,\n",
    "    fill_mode=\"reflect\",\n",
    "    preprocessing_function=lambda x: np.where(x > 0, 1, 0).astype(x.dtype),\n",
    ")\n",
    "mask_data_generator.fit(y_train, augment=True, seed=seed)\n",
    "train_mask_generator = mask_data_generator.flow(\n",
    "    y_train, seed=seed, batch_size=batch_size\n",
    ")\n",
    "valid_mask_generator = mask_data_generator.flow(\n",
    "    y_valid, seed=seed, batch_size=batch_size\n",
    ")"
   ]
  },
  {
   "cell_type": "code",
   "execution_count": null,
   "metadata": {
    "ExecuteTime": {
     "end_time": "2021-09-22T08:53:34.177060Z",
     "start_time": "2021-09-22T08:53:34.174418Z"
    }
   },
   "outputs": [],
   "source": [
    "def my_data_generator(image_generator, mask_generator):\n",
    "    for (img, mask) in zip(image_generator, mask_generator):\n",
    "        yield (img, mask)\n",
    "\n",
    "\n",
    "train_generator = my_data_generator(train_img_generator, train_mask_generator)\n",
    "valid_generator = my_data_generator(valid_img_generator, valid_mask_generator)"
   ]
  },
  {
   "cell_type": "code",
   "execution_count": null,
   "metadata": {
    "ExecuteTime": {
     "end_time": "2021-09-22T08:54:04.781880Z",
     "start_time": "2021-09-22T08:54:03.708819Z"
    }
   },
   "outputs": [],
   "source": [
    "# Sanity check with data generator\n",
    "image, mask = next(train_generator)\n",
    "idx = np.random.randint(0, batch_size)\n",
    "\n",
    "fig, ax = plt.subplots(1, 2, figsize=(10, 5))\n",
    "ax[0].imshow(image[idx, ..., 0])\n",
    "ax[1].imshow(mask[idx, ..., 0])\n",
    "plt.show()"
   ]
  },
  {
   "cell_type": "code",
   "execution_count": null,
   "metadata": {},
   "outputs": [],
   "source": []
  },
  {
   "cell_type": "markdown",
   "metadata": {},
   "source": [
    "# Model definition and training"
   ]
  },
  {
   "cell_type": "code",
   "execution_count": null,
   "metadata": {
    "ExecuteTime": {
     "end_time": "2021-09-22T08:54:11.041705Z",
     "start_time": "2021-09-22T08:54:07.551977Z"
    },
    "scrolled": true
   },
   "outputs": [],
   "source": [
    "# Define model\n",
    "tf.keras.backend.clear_session()\n",
    "model = sm.Unet(BACKBONE, classes=1, activation=\"sigmoid\")\n",
    "model.compile(\n",
    "    optimizer=tf.keras.optimizers.Adam(learning_rate=1e-4),\n",
    "    loss=sm.losses.bce_jaccard_loss,\n",
    "    metrics=[sm.metrics.iou_score, \"accuracy\"],\n",
    ")\n",
    "model.summary()"
   ]
  },
  {
   "cell_type": "code",
   "execution_count": null,
   "metadata": {
    "ExecuteTime": {
     "end_time": "2021-09-22T09:44:42.352378Z",
     "start_time": "2021-09-22T08:54:20.311618Z"
    },
    "scrolled": true
   },
   "outputs": [],
   "source": [
    "# Fit the model\n",
    "history = model.fit(\n",
    "    train_generator,\n",
    "    validation_data=valid_generator,\n",
    "    callbacks=[\n",
    "        tf.keras.callbacks.ModelCheckpoint(\n",
    "            \"./20210922_inceptionv3_aug.h5\", save_best_only=True\n",
    "        )\n",
    "    ],\n",
    "    steps_per_epoch=32,\n",
    "    validation_steps=32,\n",
    "    epochs=50,\n",
    ")"
   ]
  },
  {
   "cell_type": "code",
   "execution_count": null,
   "metadata": {
    "ExecuteTime": {
     "end_time": "2021-09-22T09:44:42.548174Z",
     "start_time": "2021-09-22T09:44:42.355973Z"
    }
   },
   "outputs": [],
   "source": [
    "# Plot training and validation accuracy / loss at each epoch\n",
    "loss = history.history[\"loss\"]\n",
    "val_loss = history.history[\"val_loss\"]\n",
    "acc = history.history[\"iou_score\"]\n",
    "val_acc = history.history[\"val_iou_score\"]\n",
    "epochs = range(1, len(loss) + 1)\n",
    "\n",
    "fig, ax = plt.subplots(1, 2, figsize=(15, 7))\n",
    "ax[0].plot(epochs, loss, \"y\", label=\"Training loss\")\n",
    "ax[0].plot(epochs, val_loss, \"r\", label=\"Validation loss\")\n",
    "ax[0].set_title(\"Training and validation loss\")\n",
    "ax[0].set_xlabel(\"Epochs\")\n",
    "ax[0].set_ylabel(\"Loss\")\n",
    "ax[0].legend()\n",
    "\n",
    "ax[1].plot(epochs, acc, \"y\", label=\"Training IOU\")\n",
    "ax[1].plot(epochs, val_acc, \"r\", label=\"Validation IOU\")\n",
    "ax[1].set_title(\"Training and validation IOU\")\n",
    "ax[1].set_xlabel(\"Epochs\")\n",
    "ax[1].set_ylabel(\"IOU\")\n",
    "ax[1].legend()\n",
    "plt.show()"
   ]
  },
  {
   "cell_type": "code",
   "execution_count": null,
   "metadata": {
    "scrolled": false
   },
   "outputs": [],
   "source": [
    "# View example predictions on valid images\n",
    "image, mask = next(valid_generator)\n",
    "\n",
    "fig, ax = plt.subplots(4, 3, figsize=(16, 20))\n",
    "for i in range(4):\n",
    "    ax[i, 0].set_title(\"Testing Image\")\n",
    "    ax[i, 0].imshow(image[i, ..., 0])\n",
    "    ax[i, 0].set_axis_off()\n",
    "    ax[i, 1].set_title(\"Testing Label\")\n",
    "    ax[i, 1].imshow(mask[i, ..., 0])\n",
    "    ax[i, 1].set_axis_off()\n",
    "    ax[i, 2].set_title(\"Prediction on test image\")\n",
    "    prediction = model.predict(image[i][None]).squeeze()\n",
    "    ax[i, 2].imshow(prediction)\n",
    "    ax[i, 2].set_axis_off()\n",
    "plt.tight_layout()\n",
    "plt.show()"
   ]
  },
  {
   "cell_type": "code",
   "execution_count": null,
   "metadata": {},
   "outputs": [],
   "source": []
  }
 ],
 "metadata": {
  "kernelspec": {
   "display_name": "Python 3 (ipykernel)",
   "language": "python",
   "name": "python3"
  },
  "language_info": {
   "codemirror_mode": {
    "name": "ipython",
    "version": 3
   },
   "file_extension": ".py",
   "mimetype": "text/x-python",
   "name": "python",
   "nbconvert_exporter": "python",
   "pygments_lexer": "ipython3",
   "version": "3.8.12"
  }
 },
 "nbformat": 4,
 "nbformat_minor": 4
}
