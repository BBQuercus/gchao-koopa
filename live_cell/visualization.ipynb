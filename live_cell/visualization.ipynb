{
 "cells": [
  {
   "cell_type": "markdown",
   "id": "4cb68fe0",
   "metadata": {},
   "source": [
    "## Initialize notebook"
   ]
  },
  {
   "cell_type": "code",
   "execution_count": null,
   "id": "81827977",
   "metadata": {
    "ExecuteTime": {
     "end_time": "2021-09-30T14:57:51.600749Z",
     "start_time": "2021-09-30T14:57:51.594397Z"
    }
   },
   "outputs": [],
   "source": [
    "import glob\n",
    "import os\n",
    "import re\n",
    "\n",
    "import ipywidgets\n",
    "import ipywidgets as widgets\n",
    "import pandas as pd\n",
    "import skimage.io"
   ]
  },
  {
   "cell_type": "code",
   "execution_count": null,
   "id": "bac35d73",
   "metadata": {},
   "outputs": [],
   "source": [
    "%gui qt\n",
    "import napari\n",
    "viewer = napari.Viewer()"
   ]
  },
  {
   "cell_type": "code",
   "execution_count": null,
   "id": "1cebf8f7",
   "metadata": {},
   "outputs": [],
   "source": []
  },
  {
   "cell_type": "markdown",
   "id": "6ffb8419",
   "metadata": {},
   "source": [
    "## Select image 👩🏻‍💻"
   ]
  },
  {
   "cell_type": "code",
   "execution_count": null,
   "id": "5703b8ed",
   "metadata": {
    "ExecuteTime": {
     "end_time": "2021-09-24T11:20:18.246636Z",
     "start_time": "2021-09-24T11:20:18.242023Z"
    }
   },
   "outputs": [],
   "source": [
    "# Set analysis folder\n",
    "dir_analysis = \"./\""
   ]
  },
  {
   "cell_type": "code",
   "execution_count": null,
   "id": "a233dea3",
   "metadata": {},
   "outputs": [],
   "source": [
    "# Bead alignment\n",
    "alignment = skimage.io.imread(os.path.join(dir_analysis, \"alignment.png\"))\n",
    "viewer.add_image(alignment, name=\"Alignment\")"
   ]
  },
  {
   "cell_type": "code",
   "execution_count": null,
   "id": "5d135aa4",
   "metadata": {
    "ExecuteTime": {
     "end_time": "2021-09-24T11:20:18.977515Z",
     "start_time": "2021-09-24T11:20:18.957320Z"
    }
   },
   "outputs": [],
   "source": [
    "# Select from nd files\n",
    "files = sorted(glob.glob(os.path.join(dir_analysis, \"preprocessed\", \"*.tif\")))\n",
    "files = sorted([os.path.basename(f).replace(\".tif\", \"\") for f in files])\n",
    "file = widgets.Dropdown(\n",
    "    options=files, description=\"File:\", layout=ipywidgets.Layout(width=\"100%\")\n",
    ")\n",
    "file"
   ]
  },
  {
   "cell_type": "code",
   "execution_count": null,
   "id": "fdf364b0",
   "metadata": {},
   "outputs": [],
   "source": []
  },
  {
   "cell_type": "markdown",
   "id": "f734feb5",
   "metadata": {},
   "source": [
    "## Load images 🌠"
   ]
  },
  {
   "cell_type": "code",
   "execution_count": null,
   "id": "1c853495",
   "metadata": {},
   "outputs": [],
   "source": [
    "viewer.layers.clear()\n",
    "\n",
    "# Images\n",
    "image = skimage.io.imread(\n",
    "    os.path.join(dir_analysis, \"preprocessed\", f\"{file.value}.tif\")\n",
    ")\n",
    "viewer.add_image(image[0], name=\"MS2 Channel\", colormap=\"magenta\", blending=\"additive\")\n",
    "viewer.add_image(image[1], name=\"SunTag Channel\", colormap=\"green\", blending=\"additive\")\n",
    "\n",
    "# Segmentation\n",
    "segmap = skimage.io.imread(\n",
    "    os.path.join(dir_analysis, \"segmentation\", f\"{file.value}.tif\")\n",
    ").astype(int)\n",
    "viewer.add_labels(segmap, name=\"Segmentation\", blending=\"translucent\")\n",
    "\n",
    "# All tracks\n",
    "track_cols = [\"particle\", \"frame\", \"y\", \"x\"]\n",
    "track_ms2 = pd.read_parquet(\n",
    "    os.path.join(dir_analysis, \"track_ms2\", f\"{file.value}.parq\")\n",
    ")\n",
    "track_sun = pd.read_parquet(\n",
    "    os.path.join(dir_analysis, \"track_suntag\", f\"{file.value}.parq\")\n",
    ")\n",
    "viewer.add_tracks(track_ms2[track_cols], name=\"Track MS2\", colormap=\"magenta\")\n",
    "viewer.add_tracks(track_sun[track_cols], name=\"Track SunTag\", colormap=\"green\")\n",
    "\n",
    "# Colocalized vs non-colocalized (ms2 channel only)\n",
    "coloc = pd.read_parquet(\n",
    "    os.path.join(dir_analysis, \"colocalization\", f\"{file.value}.parq\")\n",
    ")\n",
    "\n",
    "viewer.add_tracks(\n",
    "    coloc[(coloc[\"coloc_particle\"].isna()) & (coloc[\"channel\"] == \"ms2\")][track_cols],\n",
    "    name=\"Track Coloc\",\n",
    "    colormap=\"red\",\n",
    ")\n",
    "viewer.add_tracks(\n",
    "    coloc[(~coloc[\"coloc_particle\"].isna()) & (coloc[\"channel\"] == \"ms2\")][track_cols],\n",
    "    name=\"Track Empty\",\n",
    "    colormap=\"blue\",\n",
    ")"
   ]
  },
  {
   "cell_type": "code",
   "execution_count": null,
   "id": "962c5987",
   "metadata": {},
   "outputs": [],
   "source": []
  }
 ],
 "metadata": {
  "kernelspec": {
   "display_name": "Python 3",
   "language": "python",
   "name": "python3"
  },
  "language_info": {
   "codemirror_mode": {
    "name": "ipython",
    "version": 3
   },
   "file_extension": ".py",
   "mimetype": "text/x-python",
   "name": "python",
   "nbconvert_exporter": "python",
   "pygments_lexer": "ipython3",
   "version": "3.9.5"
  }
 },
 "nbformat": 4,
 "nbformat_minor": 5
}
